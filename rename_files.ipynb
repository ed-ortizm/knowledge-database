{
 "cells": [
  {
   "cell_type": "markdown",
   "metadata": {},
   "source": [
    "### Rename ArXiv papers.\n",
    "The format for the files is:\n",
    "``` bash\n",
    "firstAuthor_year_title_arxiv.pdf\n",
    "```"
   ]
  },
  {
   "cell_type": "code",
   "execution_count": 9,
   "metadata": {},
   "outputs": [],
   "source": [
    "import glob\n",
    "import os"
   ]
  },
  {
   "cell_type": "code",
   "execution_count": 2,
   "metadata": {},
   "outputs": [
    {
     "name": "stdout",
     "output_type": "stream",
     "text": [
      "/home/edgar/sqlearning/knowledge-database/data/arxiv\n"
     ]
    }
   ],
   "source": [
    "user = \"/home/edgar\"\n",
    "data_dir = f\"{user}/sqlearning/knowledge-database/data\"\n",
    "arxiv_dir = f\"{data_dir}/arxiv\"\n",
    "print(arxiv_dir)"
   ]
  },
  {
   "cell_type": "code",
   "execution_count": 3,
   "metadata": {},
   "outputs": [],
   "source": [
    "papers_names = glob.glob(f\"{arxiv_dir}/*.pdf\")\n",
    "papers_names = [\n",
    "    name.split(\"/\")[-1]\\\n",
    "    for name in papers_names\n",
    "]"
   ]
  },
  {
   "cell_type": "code",
   "execution_count": 4,
   "metadata": {},
   "outputs": [
    {
     "data": {
      "text/plain": [
       "['hilal_2022_Financial Fraud: A Review of Anomaly Detection Techniques and Recent Advances.pdf',\n",
       " 'faraji_2022_A Review of Machine Learning Applications for Credit Card Fraud Detection with A Case study.pdf',\n",
       " 'demajo_2020_Explainable AI for Interpretable Credit Scoring.pdf',\n",
       " 'Bockel-Rickermann_2022_Fraud Analytics_ A Decade of Research Organizing Challenges and Solutions in the Field.pdf',\n",
       " 'chang_2022_Digital payment fraud detection methods in digital ages and Industry 4.0.pdf']"
      ]
     },
     "execution_count": 4,
     "metadata": {},
     "output_type": "execute_result"
    }
   ],
   "source": [
    "papers_names"
   ]
  },
  {
   "cell_type": "code",
   "execution_count": 5,
   "metadata": {},
   "outputs": [],
   "source": [
    "# funtion to replace special characters\n",
    "# replace spaces with underscores\n",
    "# replace dashes with underscores\n",
    "# replace commas with underscores\n",
    "# replace dots with underscores\n",
    "# replace parentheses with underscores\n",
    "# replace brackets with underscores\n",
    "# replace braces with underscores\n",
    "# replace apostrophes with underscores\n",
    "# replace quotes with underscores\n",
    "# replace colons with underscores\n",
    "# replace semicolons with underscores\n",
    "\n",
    "def replace_special_characters(name):\n",
    "\n",
    "    name = name.replace(\" \", \"_\")\n",
    "    name = name.replace(\"-\", \"_\")\n",
    "    name = name.replace(\",\", \"_\")\n",
    "    name = name.replace(\"(\", \"_\")\n",
    "    name = name.replace(\")\", \"_\")\n",
    "    name = name.replace(\"[\", \"_\")\n",
    "    name = name.replace(\"]\", \"_\")\n",
    "    name = name.replace(\"{\", \"_\")\n",
    "    name = name.replace(\"}\", \"_\")\n",
    "    name = name.replace(\"'\", \"_\")\n",
    "    name = name.replace('\"', \"_\")\n",
    "    name = name.replace(\":\", \"_\")\n",
    "    name = name.replace(\";\", \"_\")\n",
    "\n",
    "    return name"
   ]
  },
  {
   "cell_type": "code",
   "execution_count": 6,
   "metadata": {},
   "outputs": [],
   "source": [
    "new_names = [\n",
    "    replace_special_characters(name)\\\n",
    "    for name in papers_names\n",
    "]\n",
    "# doble underscore to single underscore\n",
    "new_names = [\n",
    "    name.replace(\"__\", \"_\")\\\n",
    "    for name in new_names\n",
    "]\n",
    "# lowercase\n",
    "new_names = [\n",
    "    name.lower()\\\n",
    "    for name in new_names\n",
    "]"
   ]
  },
  {
   "cell_type": "code",
   "execution_count": 7,
   "metadata": {},
   "outputs": [
    {
     "name": "stdout",
     "output_type": "stream",
     "text": [
      "hilal_2022_financial_fraud_a_review_of_anomaly_detection_techniques_and_recent_advances.pdf\n",
      "faraji_2022_a_review_of_machine_learning_applications_for_credit_card_fraud_detection_with_a_case_study.pdf\n",
      "demajo_2020_explainable_ai_for_interpretable_credit_scoring.pdf\n",
      "bockel_rickermann_2022_fraud_analytics_a_decade_of_research_organizing_challenges_and_solutions_in_the_field.pdf\n",
      "chang_2022_digital_payment_fraud_detection_methods_in_digital_ages_and_industry_4.0.pdf\n"
     ]
    }
   ],
   "source": [
    "for name in new_names:\n",
    "    print(name)"
   ]
  },
  {
   "cell_type": "code",
   "execution_count": 11,
   "metadata": {},
   "outputs": [
    {
     "name": "stdout",
     "output_type": "stream",
     "text": [
      "Renaming hilal_2022_Financial Fraud: A Review of Anomaly Detection Techniques and Recent Advances.pdf to hilal_2022_financial_fraud_a_review_of_anomaly_detection_techniques_and_recent_advances.pdf\n",
      "Renaming faraji_2022_A Review of Machine Learning Applications for Credit Card Fraud Detection with A Case study.pdf to faraji_2022_a_review_of_machine_learning_applications_for_credit_card_fraud_detection_with_a_case_study.pdf\n",
      "Renaming demajo_2020_Explainable AI for Interpretable Credit Scoring.pdf to demajo_2020_explainable_ai_for_interpretable_credit_scoring.pdf\n",
      "Renaming Bockel-Rickermann_2022_Fraud Analytics_ A Decade of Research Organizing Challenges and Solutions in the Field.pdf to bockel_rickermann_2022_fraud_analytics_a_decade_of_research_organizing_challenges_and_solutions_in_the_field.pdf\n",
      "Renaming chang_2022_Digital payment fraud detection methods in digital ages and Industry 4.0.pdf to chang_2022_digital_payment_fraud_detection_methods_in_digital_ages_and_industry_4.0.pdf\n"
     ]
    }
   ],
   "source": [
    "# rename files\n",
    "for old_name, new_name in zip(papers_names, new_names):\n",
    "    print(f\"Renaming {old_name} to {new_name}\")\n",
    "    os.rename(\n",
    "        f\"{arxiv_dir}/{old_name}\",\n",
    "        f\"{arxiv_dir}/{new_name}\"\n",
    "    )\n"
   ]
  },
  {
   "cell_type": "code",
   "execution_count": 12,
   "metadata": {},
   "outputs": [
    {
     "name": "stdout",
     "output_type": "stream",
     "text": [
      "Creating directory hilal_2022_financial_fraud_a_review_of_anomaly_detection_techniques_and_recent_advances\n",
      "Creating directory faraji_2022_a_review_of_machine_learning_applications_for_credit_card_fraud_detection_with_a_case_study\n",
      "Creating directory demajo_2020_explainable_ai_for_interpretable_credit_scoring\n",
      "Creating directory bockel_rickermann_2022_fraud_analytics_a_decade_of_research_organizing_challenges_and_solutions_in_the_field\n",
      "Creating directory chang_2022_digital_payment_fraud_detection_methods_in_digital_ages_and_industry_4.0\n"
     ]
    }
   ],
   "source": [
    "import os\n",
    "# create directory per paper name\n",
    "# removing .pdf extension\n",
    "\n",
    "for name in new_names:\n",
    "    name = name.replace(\".pdf\", \"\")\n",
    "    print(f\"Creating directory {name}\")\n",
    "    os.mkdir(f\"{arxiv_dir}/{name}\")\n"
   ]
  },
  {
   "cell_type": "code",
   "execution_count": 13,
   "metadata": {},
   "outputs": [
    {
     "name": "stdout",
     "output_type": "stream",
     "text": [
      "Moving hilal_2022_financial_fraud_a_review_of_anomaly_detection_techniques_and_recent_advances.pdf to hilal_2022_financial_fraud_a_review_of_anomaly_detection_techniques_and_recent_advances\n",
      "Moving faraji_2022_a_review_of_machine_learning_applications_for_credit_card_fraud_detection_with_a_case_study.pdf to faraji_2022_a_review_of_machine_learning_applications_for_credit_card_fraud_detection_with_a_case_study\n",
      "Moving demajo_2020_explainable_ai_for_interpretable_credit_scoring.pdf to demajo_2020_explainable_ai_for_interpretable_credit_scoring\n",
      "Moving bockel_rickermann_2022_fraud_analytics_a_decade_of_research_organizing_challenges_and_solutions_in_the_field.pdf to bockel_rickermann_2022_fraud_analytics_a_decade_of_research_organizing_challenges_and_solutions_in_the_field\n",
      "Moving chang_2022_digital_payment_fraud_detection_methods_in_digital_ages_and_industry_4.0.pdf to chang_2022_digital_payment_fraud_detection_methods_in_digital_ages_and_industry_4.0\n"
     ]
    }
   ],
   "source": [
    "# move files to their respective directory\n",
    "for name in new_names:\n",
    "    name = name.replace(\".pdf\", \"\")\n",
    "    print(f\"Moving {name}.pdf to {name}\")\n",
    "    os.rename(\n",
    "        f\"{arxiv_dir}/{name}.pdf\",\n",
    "        f\"{arxiv_dir}/{name}/{name}.pdf\"\n",
    "    )"
   ]
  },
  {
   "cell_type": "code",
   "execution_count": null,
   "metadata": {},
   "outputs": [],
   "source": []
  }
 ],
 "metadata": {
  "kernelspec": {
   "display_name": "Python 3",
   "language": "python",
   "name": "python3"
  },
  "language_info": {
   "codemirror_mode": {
    "name": "ipython",
    "version": 3
   },
   "file_extension": ".py",
   "mimetype": "text/x-python",
   "name": "python",
   "nbconvert_exporter": "python",
   "pygments_lexer": "ipython3",
   "version": "3.10.6"
  },
  "orig_nbformat": 4
 },
 "nbformat": 4,
 "nbformat_minor": 2
}
